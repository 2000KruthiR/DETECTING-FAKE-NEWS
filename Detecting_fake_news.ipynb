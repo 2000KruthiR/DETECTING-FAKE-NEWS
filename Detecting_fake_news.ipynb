{
  "cells": [
    {
      "cell_type": "markdown",
      "metadata": {
        "id": "view-in-github",
        "colab_type": "text"
      },
      "source": [
        "<a href=\"https://colab.research.google.com/github/2000KruthiR/DETECTING-FAKE-NEWS/blob/main/Detecting_fake_news.ipynb\" target=\"_parent\"><img src=\"https://colab.research.google.com/assets/colab-badge.svg\" alt=\"Open In Colab\"/></a>"
      ]
    },
    {
      "cell_type": "markdown",
      "id": "8c8106bf",
      "metadata": {
        "id": "8c8106bf"
      },
      "source": [
        "### Fake new detection overview Steps\n",
        "#### 1- Import necessary libraries\n",
        "#### 2- Read and explore the dataset\n",
        "#### 3- Build a model using PassiveAggressiveClassifier\n",
        "#### 4- Evaluate the model's accuracy"
      ]
    },
    {
      "cell_type": "code",
      "execution_count": null,
      "id": "cc852b8f",
      "metadata": {
        "id": "cc852b8f"
      },
      "outputs": [],
      "source": [
        "pip install numpy pandas sklearn\n"
      ]
    },
    {
      "cell_type": "markdown",
      "source": [
        "## Step 1: Data Exploration\n",
        "\n",
        "1. Import necessary libraries.\n",
        "2. Load the dataset.\n",
        "3. Display the first few rows, dataset information, shape, and label distribution.\n",
        "4. Visualize the label distribution and inspect some text data examples."
      ],
      "metadata": {
        "id": "zIo1DP03s5qu"
      },
      "id": "zIo1DP03s5qu"
    },
    {
      "cell_type": "markdown",
      "id": "082ddbc4",
      "metadata": {
        "id": "082ddbc4"
      },
      "source": [
        "#### Import necessary libraries"
      ]
    },
    {
      "cell_type": "code",
      "execution_count": 2,
      "id": "0807b7e3",
      "metadata": {
        "id": "0807b7e3"
      },
      "outputs": [],
      "source": [
        "import pandas as pd\n",
        "import numpy as np\n",
        "from sklearn.feature_extraction.text import TfidfVectorizer\n",
        "from sklearn.model_selection import train_test_split\n",
        "from sklearn.linear_model import PassiveAggressiveClassifier\n",
        "from sklearn.metrics import accuracy_score, confusion_matrix, classification_report\n",
        "import itertools\n",
        "import seaborn as sns\n",
        "import matplotlib.pyplot as plt"
      ]
    },
    {
      "cell_type": "markdown",
      "id": "4786a2af",
      "metadata": {
        "id": "4786a2af"
      },
      "source": [
        "#### Read and explore the dataset"
      ]
    },
    {
      "cell_type": "code",
      "execution_count": 3,
      "id": "7cf9c4e2",
      "metadata": {
        "id": "7cf9c4e2"
      },
      "outputs": [],
      "source": [
        "news= pd.read_csv(\"/content/news.csv\")"
      ]
    },
    {
      "cell_type": "code",
      "source": [
        "# Displaying the first 10 rows of the dataset to understand its structure\n",
        "print(\"First 10 rows of the dataset:\")\n",
        "print(news.head(10))"
      ],
      "metadata": {
        "colab": {
          "base_uri": "https://localhost:8080/"
        },
        "id": "8RKrA-rPltg-",
        "outputId": "37f41e50-2de3-41be-ec42-a3a520d8a12b"
      },
      "id": "8RKrA-rPltg-",
      "execution_count": 4,
      "outputs": [
        {
          "output_type": "stream",
          "name": "stdout",
          "text": [
            "First 10 rows of the dataset:\n",
            "   Unnamed: 0                                              title  \\\n",
            "0        8476                       You Can Smell Hillary’s Fear   \n",
            "1       10294  Watch The Exact Moment Paul Ryan Committed Pol...   \n",
            "2        3608        Kerry to go to Paris in gesture of sympathy   \n",
            "3       10142  Bernie supporters on Twitter erupt in anger ag...   \n",
            "4         875   The Battle of New York: Why This Primary Matters   \n",
            "5        6903                                        Tehran, USA   \n",
            "6        7341  Girl Horrified At What She Watches Boyfriend D...   \n",
            "7          95                  ‘Britain’s Schindler’ Dies at 106   \n",
            "8        4869  Fact check: Trump and Clinton at the 'commande...   \n",
            "9        2909  Iran reportedly makes new push for uranium con...   \n",
            "\n",
            "                                                text label  \n",
            "0  Daniel Greenfield, a Shillman Journalism Fello...  FAKE  \n",
            "1  Google Pinterest Digg Linkedin Reddit Stumbleu...  FAKE  \n",
            "2  U.S. Secretary of State John F. Kerry said Mon...  REAL  \n",
            "3  — Kaydee King (@KaydeeKing) November 9, 2016 T...  FAKE  \n",
            "4  It's primary day in New York and front-runners...  REAL  \n",
            "5    \\nI’m not an immigrant, but my grandparents ...  FAKE  \n",
            "6  Share This Baylee Luciani (left), Screenshot o...  FAKE  \n",
            "7  A Czech stockbroker who saved more than 650 Je...  REAL  \n",
            "8  Hillary Clinton and Donald Trump made some ina...  REAL  \n",
            "9  Iranian negotiators reportedly have made a las...  REAL  \n"
          ]
        }
      ]
    },
    {
      "cell_type": "code",
      "execution_count": 5,
      "id": "6981ab7d",
      "metadata": {
        "id": "6981ab7d",
        "outputId": "445b4c47-4f9c-4990-96cb-e1f0bbe98798",
        "colab": {
          "base_uri": "https://localhost:8080/"
        }
      },
      "outputs": [
        {
          "output_type": "stream",
          "name": "stdout",
          "text": [
            "\n",
            "Dataset Information:\n",
            "<class 'pandas.core.frame.DataFrame'>\n",
            "RangeIndex: 6335 entries, 0 to 6334\n",
            "Data columns (total 4 columns):\n",
            " #   Column      Non-Null Count  Dtype \n",
            "---  ------      --------------  ----- \n",
            " 0   Unnamed: 0  6335 non-null   int64 \n",
            " 1   title       6335 non-null   object\n",
            " 2   text        6335 non-null   object\n",
            " 3   label       6335 non-null   object\n",
            "dtypes: int64(1), object(3)\n",
            "memory usage: 198.1+ KB\n",
            "None\n"
          ]
        }
      ],
      "source": [
        "# Displaying the dataset information to understand data types and missing values\n",
        "print(\"\\nDataset Information:\")\n",
        "print(news.info())"
      ]
    },
    {
      "cell_type": "code",
      "execution_count": 6,
      "id": "fcb92843",
      "metadata": {
        "scrolled": true,
        "id": "fcb92843",
        "outputId": "3e57bf8d-6857-4c29-cfa3-e26bfcc981eb",
        "colab": {
          "base_uri": "https://localhost:8080/"
        }
      },
      "outputs": [
        {
          "output_type": "stream",
          "name": "stdout",
          "text": [
            "\n",
            "Dataset Shape:\n",
            "(6335, 4)\n"
          ]
        }
      ],
      "source": [
        "# Displaying the shape of the dataset to know the number of rows and columns\n",
        "print(\"\\nDataset Shape:\")\n",
        "print(news.shape)"
      ]
    },
    {
      "cell_type": "code",
      "execution_count": 7,
      "id": "37abe593",
      "metadata": {
        "id": "37abe593",
        "outputId": "6b527547-df3b-45c2-8689-7cbdbc29661f",
        "colab": {
          "base_uri": "https://localhost:8080/"
        }
      },
      "outputs": [
        {
          "output_type": "stream",
          "name": "stdout",
          "text": [
            "\n",
            "Label Distribution:\n",
            "label\n",
            "REAL    3171\n",
            "FAKE    3164\n",
            "Name: count, dtype: int64\n"
          ]
        }
      ],
      "source": [
        "# Displaying the value counts of the labels to understand the distribution of fake and real news\n",
        "print(\"\\nLabel Distribution:\")\n",
        "print(news[\"label\"].value_counts())"
      ]
    },
    {
      "cell_type": "code",
      "execution_count": 8,
      "id": "61fd2236",
      "metadata": {
        "id": "61fd2236",
        "outputId": "040c04d0-29b2-4e47-8867-3143130ad59d",
        "colab": {
          "base_uri": "https://localhost:8080/"
        }
      },
      "outputs": [
        {
          "output_type": "execute_result",
          "data": {
            "text/plain": [
              "0    FAKE\n",
              "1    FAKE\n",
              "2    REAL\n",
              "3    FAKE\n",
              "4    REAL\n",
              "5    FAKE\n",
              "6    FAKE\n",
              "7    REAL\n",
              "8    REAL\n",
              "9    REAL\n",
              "Name: label, dtype: object"
            ]
          },
          "metadata": {},
          "execution_count": 8
        }
      ],
      "source": [
        "labels= news.label\n",
        "labels.head(10)"
      ]
    },
    {
      "cell_type": "code",
      "source": [
        "# Visualizing the label distribution\n",
        "sns.countplot(x='label', data=news)\n",
        "plt.title('Distribution of Labels')\n",
        "plt.show()"
      ],
      "metadata": {
        "colab": {
          "base_uri": "https://localhost:8080/",
          "height": 472
        },
        "id": "P6CBprwhnpzg",
        "outputId": "cdb64187-9261-400f-c133-e284d8eb1cb4"
      },
      "id": "P6CBprwhnpzg",
      "execution_count": 10,
      "outputs": [
        {
          "output_type": "display_data",
          "data": {
            "text/plain": [
              "<Figure size 640x480 with 1 Axes>"
            ],
            "image/png": "[encoded data removed]"
          },
          "metadata": {}
        }
      ]
    },
    {
      "cell_type": "code",
      "source": [
        "# Displaying some text data\n",
        "print(\"\\nSample Text Data:\")\n",
        "for i in range(3):\n",
        "    print(f\"Title: {news['title'][i]}\")\n",
        "    print(f\"Text: {news['text'][i][:300]}...\")  # Limiting the text display for readability\n",
        "    print(f\"Label: {news['label'][i]}\")\n",
        "    print()"
      ],
      "metadata": {
        "colab": {
          "base_uri": "https://localhost:8080/"
        },
        "id": "3va8cDtenqAj",
        "outputId": "a045599a-e870-4ce3-b24f-ef85ec7a69dc"
      },
      "id": "3va8cDtenqAj",
      "execution_count": 11,
      "outputs": [
        {
          "output_type": "stream",
          "name": "stdout",
          "text": [
            "\n",
            "Sample Text Data:\n",
            "Title: You Can Smell Hillary’s Fear\n",
            "Text: Daniel Greenfield, a Shillman Journalism Fellow at the Freedom Center, is a New York writer focusing on radical Islam. \n",
            "In the final stretch of the election, Hillary Rodham Clinton has gone to war with the FBI. \n",
            "The word “unprecedented” has been thrown around so often this election that it ought to ...\n",
            "Label: FAKE\n",
            "\n",
            "Title: Watch The Exact Moment Paul Ryan Committed Political Suicide At A Trump Rally (VIDEO)\n",
            "Text: Google Pinterest Digg Linkedin Reddit Stumbleupon Print Delicious Pocket Tumblr \n",
            "There are two fundamental truths in this world: Paul Ryan desperately wants to be president. And Paul Ryan will never be president. Today proved it. \n",
            "In a particularly staggering example of political cowardice, Paul Rya...\n",
            "Label: FAKE\n",
            "\n",
            "Title: Kerry to go to Paris in gesture of sympathy\n",
            "Text: U.S. Secretary of State John F. Kerry said Monday that he will stop in Paris later this week, amid criticism that no top American officials attended Sunday’s unity march against terrorism.\n",
            "\n",
            "Kerry said he expects to arrive in Paris Thursday evening, as he heads home after a week abroad. He said he wi...\n",
            "Label: REAL\n",
            "\n"
          ]
        }
      ]
    },
    {
      "cell_type": "markdown",
      "source": [
        "## Step 2: Data Preprocessing and Model Building\n",
        "\n",
        "1. Handle missing values.\n",
        "2. Split the dataset into training and testing sets.\n",
        "3. Vectorize the text data using TfidfVectorizer.\n",
        "4. Build and train a PassiveAggressiveClassifier model."
      ],
      "metadata": {
        "id": "tLUkBp2VtRWD"
      },
      "id": "tLUkBp2VtRWD"
    },
    {
      "cell_type": "markdown",
      "id": "ff2c2fa1",
      "metadata": {
        "id": "ff2c2fa1"
      },
      "source": [
        "#### Build the model"
      ]
    },
    {
      "cell_type": "code",
      "source": [
        "# Checking the missing values\n",
        "print(\"\\nMissing Values:\")\n",
        "print(news.isnull().sum())"
      ],
      "metadata": {
        "colab": {
          "base_uri": "https://localhost:8080/"
        },
        "id": "EbdBq1_MpzYN",
        "outputId": "e0125b58-4e1e-4cbd-e260-27df8b5c9fe2"
      },
      "id": "EbdBq1_MpzYN",
      "execution_count": 12,
      "outputs": [
        {
          "output_type": "stream",
          "name": "stdout",
          "text": [
            "\n",
            "Missing Values:\n",
            "Unnamed: 0    0\n",
            "title         0\n",
            "text          0\n",
            "label         0\n",
            "dtype: int64\n"
          ]
        }
      ]
    },
    {
      "cell_type": "code",
      "source": [
        "# Droping rows with missing values\n",
        "news.dropna(inplace=True)"
      ],
      "metadata": {
        "id": "BouWnjpOqAXN"
      },
      "id": "BouWnjpOqAXN",
      "execution_count": 13,
      "outputs": []
    },
    {
      "cell_type": "code",
      "source": [
        "# Spliting the dataset into training and testing sets\n",
        "# 40% of the data will be used for testing and 60% for training\n",
        "x_train, x_test, y_train, y_test = train_test_split(news[\"text\"], labels, test_size=0.4, random_state=7)"
      ],
      "metadata": {
        "id": "IrCrKp1DqIeH"
      },
      "id": "IrCrKp1DqIeH",
      "execution_count": 14,
      "outputs": []
    },
    {
      "cell_type": "code",
      "source": [
        "# Initialize TfidfVectorizer with English stop words\n",
        "# TfidfVectorizer converts text data to numerical data suitable for machine learning algorithms\n",
        "vectorizer = TfidfVectorizer(stop_words='english', max_df=0.7)"
      ],
      "metadata": {
        "id": "k8rx_MiEq3W7"
      },
      "id": "k8rx_MiEq3W7",
      "execution_count": 15,
      "outputs": []
    },
    {
      "cell_type": "code",
      "source": [
        "# Fit and transform the training data, and transform the testing data\n",
        "# This means we learn the vocabulary and document frequencies from the training set\n",
        "tfidf_train = vectorizer.fit_transform(x_train)\n",
        "tfidf_test = vectorizer.transform(x_test)"
      ],
      "metadata": {
        "id": "UfEY927Eq3EB"
      },
      "id": "UfEY927Eq3EB",
      "execution_count": 16,
      "outputs": []
    },
    {
      "cell_type": "code",
      "source": [
        "# Create a PassiveAggressiveClassifier\n",
        "# PassiveAggressiveClassifier is suitable for large-scale learning and is efficient for text classification\n",
        "passive = PassiveAggressiveClassifier(max_iter=50)\n",
        "passive.fit(tfidf_train, y_train)"
      ],
      "metadata": {
        "colab": {
          "base_uri": "https://localhost:8080/",
          "height": 75
        },
        "id": "IvFlz-Okq20A",
        "outputId": "f244b203-e990-4833-e646-0ec1e83ca8dc"
      },
      "id": "IvFlz-Okq20A",
      "execution_count": 17,
      "outputs": [
        {
          "output_type": "execute_result",
          "data": {
            "text/plain": [
              "PassiveAggressiveClassifier(max_iter=50)"
            ],
            "text/html": [
              "<style>#sk-container-id-1 {color: black;background-color: white;}#sk-container-id-1 pre{padding: 0;}#sk-container-id-1 div.sk-toggleable {background-color: white;}#sk-container-id-1 label.sk-toggleable__label {cursor: pointer;display: block;width: 100%;margin-bottom: 0;padding: 0.3em;box-sizing: border-box;text-align: center;}#sk-container-id-1 label.sk-toggleable__label-arrow:before {content: \"▸\";float: left;margin-right: 0.25em;color: #696969;}#sk-container-id-1 label.sk-toggleable__label-arrow:hover:before {color: black;}#sk-container-id-1 div.sk-estimator:hover label.sk-toggleable__label-arrow:before {color: black;}#sk-container-id-1 div.sk-toggleable__content {max-height: 0;max-width: 0;overflow: hidden;text-align: left;background-color: #f0f8ff;}#sk-container-id-1 div.sk-toggleable__content pre {margin: 0.2em;color: black;border-radius: 0.25em;background-color: #f0f8ff;}#sk-container-id-1 input.sk-toggleable__control:checked~div.sk-toggleable__content {max-height: 200px;max-width: 100%;overflow: auto;}#sk-container-id-1 input.sk-toggleable__control:checked~label.sk-toggleable__label-arrow:before {content: \"▾\";}#sk-container-id-1 div.sk-estimator input.sk-toggleable__control:checked~label.sk-toggleable__label {background-color: #d4ebff;}#sk-container-id-1 div.sk-label input.sk-toggleable__control:checked~label.sk-toggleable__label {background-color: #d4ebff;}#sk-container-id-1 input.sk-hidden--visually {border: 0;clip: rect(1px 1px 1px 1px);clip: rect(1px, 1px, 1px, 1px);height: 1px;margin: -1px;overflow: hidden;padding: 0;position: absolute;width: 1px;}#sk-container-id-1 div.sk-estimator {font-family: monospace;background-color: #f0f8ff;border: 1px dotted black;border-radius: 0.25em;box-sizing: border-box;margin-bottom: 0.5em;}#sk-container-id-1 div.sk-estimator:hover {background-color: #d4ebff;}#sk-container-id-1 div.sk-parallel-item::after {content: \"\";width: 100%;border-bottom: 1px solid gray;flex-grow: 1;}#sk-container-id-1 div.sk-label:hover label.sk-toggleable__label {background-color: #d4ebff;}#sk-container-id-1 div.sk-serial::before {content: \"\";position: absolute;border-left: 1px solid gray;box-sizing: border-box;top: 0;bottom: 0;left: 50%;z-index: 0;}#sk-container-id-1 div.sk-serial {display: flex;flex-direction: column;align-items: center;background-color: white;padding-right: 0.2em;padding-left: 0.2em;position: relative;}#sk-container-id-1 div.sk-item {position: relative;z-index: 1;}#sk-container-id-1 div.sk-parallel {display: flex;align-items: stretch;justify-content: center;background-color: white;position: relative;}#sk-container-id-1 div.sk-item::before, #sk-container-id-1 div.sk-parallel-item::before {content: \"\";position: absolute;border-left: 1px solid gray;box-sizing: border-box;top: 0;bottom: 0;left: 50%;z-index: -1;}#sk-container-id-1 div.sk-parallel-item {display: flex;flex-direction: column;z-index: 1;position: relative;background-color: white;}#sk-container-id-1 div.sk-parallel-item:first-child::after {align-self: flex-end;width: 50%;}#sk-container-id-1 div.sk-parallel-item:last-child::after {align-self: flex-start;width: 50%;}#sk-container-id-1 div.sk-parallel-item:only-child::after {width: 0;}#sk-container-id-1 div.sk-dashed-wrapped {border: 1px dashed gray;margin: 0 0.4em 0.5em 0.4em;box-sizing: border-box;padding-bottom: 0.4em;background-color: white;}#sk-container-id-1 div.sk-label label {font-family: monospace;font-weight: bold;display: inline-block;line-height: 1.2em;}#sk-container-id-1 div.sk-label-container {text-align: center;}#sk-container-id-1 div.sk-container {/* jupyter's `normalize.less` sets `[hidden] { display: none; }` but bootstrap.min.css set `[hidden] { display: none !important; }` so we also need the `!important` here to be able to override the default hidden behavior on the sphinx rendered scikit-learn.org. See: https://github.com/scikit-learn/scikit-learn/issues/21755 */display: inline-block !important;position: relative;}#sk-container-id-1 div.sk-text-repr-fallback {display: none;}</style><div id=\"sk-container-id-1\" class=\"sk-top-container\"><div class=\"sk-text-repr-fallback\"><pre>PassiveAggressiveClassifier(max_iter=50)</pre><b>In a Jupyter environment, please rerun this cell to show the HTML representation or trust the notebook. <br />On GitHub, the HTML representation is unable to render, please try loading this page with nbviewer.org.</b></div><div class=\"sk-container\" hidden><div class=\"sk-item\"><div class=\"sk-estimator sk-toggleable\"><input class=\"sk-toggleable__control sk-hidden--visually\" id=\"sk-estimator-id-1\" type=\"checkbox\" checked><label for=\"sk-estimator-id-1\" class=\"sk-toggleable__label sk-toggleable__label-arrow\">PassiveAggressiveClassifier</label><div class=\"sk-toggleable__content\"><pre>PassiveAggressiveClassifier(max_iter=50)</pre></div></div></div></div></div>"
            ]
          },
          "metadata": {},
          "execution_count": 17
        }
      ]
    },
    {
      "cell_type": "code",
      "source": [
        "# Predicting the test set results\n",
        "y_pred = passive.predict(tfidf_test)"
      ],
      "metadata": {
        "id": "7t59mx2urFVT"
      },
      "id": "7t59mx2urFVT",
      "execution_count": 18,
      "outputs": []
    },
    {
      "cell_type": "markdown",
      "source": [
        "## Step 3: Model Evaluation\n",
        "\n",
        "1.    Generate a confusion matrix.\n",
        "2.  Visualize the confusion matrix using a heatmap.\n",
        "3.    Calculate the model's accuracy.\n",
        "4.    Generate a classification report.\n",
        "5.   Display additional evaluation metrics.\n",
        "6.    Visualize the ROC curve."
      ],
      "metadata": {
        "id": "151XwCSjtroQ"
      },
      "id": "151XwCSjtroQ"
    },
    {
      "cell_type": "markdown",
      "id": "45b34d86",
      "metadata": {
        "id": "45b34d86"
      },
      "source": [
        "#### Evaluate the model's accuracy"
      ]
    },
    {
      "cell_type": "code",
      "source": [
        "# Create a confusion matrix to evaluate the model's performance\n",
        "# Confusion matrix helps in understanding the performance of the classification model\n",
        "matrix = confusion_matrix(y_test, y_pred, labels=['FAKE', 'REAL'])\n",
        "print(\"\\nConfusion Matrix:\")\n",
        "print(matrix)"
      ],
      "metadata": {
        "colab": {
          "base_uri": "https://localhost:8080/"
        },
        "id": "lKS4WCPOrtIt",
        "outputId": "dfea4e06-634c-4ead-baff-f3832e9fc5fb"
      },
      "id": "lKS4WCPOrtIt",
      "execution_count": 19,
      "outputs": [
        {
          "output_type": "stream",
          "name": "stdout",
          "text": [
            "\n",
            "Confusion Matrix:\n",
            "[[1183   87]\n",
            " [  86 1178]]\n"
          ]
        }
      ]
    },
    {
      "cell_type": "code",
      "execution_count": 20,
      "id": "8f04a52f",
      "metadata": {
        "id": "8f04a52f",
        "outputId": "e4dae977-e604-4206-a879-495c08f07179",
        "colab": {
          "base_uri": "https://localhost:8080/",
          "height": 472
        }
      },
      "outputs": [
        {
          "output_type": "display_data",
          "data": {
            "text/plain": [
              "<Figure size 640x480 with 2 Axes>"
            ],
            "image/png": "[encoded data removed]"
          },
          "metadata": {}
        }
      ],
      "source": [
        "# Visualize the confusion matrix using a heatmap\n",
        "sns.heatmap(matrix, annot=True, fmt='d', cmap='Blues', xticklabels=['FAKE', 'REAL'], yticklabels=['FAKE', 'REAL'])\n",
        "plt.title('Confusion Matrix')\n",
        "plt.xlabel('Predicted Label')\n",
        "plt.ylabel('True Label')\n",
        "plt.show()"
      ]
    },
    {
      "cell_type": "code",
      "execution_count": 21,
      "id": "3d32cfaf",
      "metadata": {
        "id": "3d32cfaf",
        "outputId": "5804b5e6-bec0-4523-d0e0-0ae568239aaa",
        "colab": {
          "base_uri": "https://localhost:8080/"
        }
      },
      "outputs": [
        {
          "output_type": "stream",
          "name": "stdout",
          "text": [
            "\n",
            "Model Accuracy: 93.17%\n"
          ]
        }
      ],
      "source": [
        "# Calculate the model's accuracy\n",
        "accuracy = accuracy_score(y_test, y_pred)\n",
        "print(f\"\\nModel Accuracy: {accuracy * 100:.2f}%\")"
      ]
    },
    {
      "cell_type": "markdown",
      "id": "cc8eecf4",
      "metadata": {
        "id": "cc8eecf4"
      },
      "source": [
        "#### The model's accuracy is 93%"
      ]
    },
    {
      "cell_type": "code",
      "execution_count": 22,
      "id": "6cb198db",
      "metadata": {
        "id": "6cb198db",
        "outputId": "53fc39d9-debf-4dfc-ccac-1ae2295c6df5",
        "colab": {
          "base_uri": "https://localhost:8080/"
        }
      },
      "outputs": [
        {
          "output_type": "stream",
          "name": "stdout",
          "text": [
            "\n",
            "Classification Report:\n",
            "              precision    recall  f1-score   support\n",
            "\n",
            "        FAKE       0.93      0.93      0.93      1270\n",
            "        REAL       0.93      0.93      0.93      1264\n",
            "\n",
            "    accuracy                           0.93      2534\n",
            "   macro avg       0.93      0.93      0.93      2534\n",
            "weighted avg       0.93      0.93      0.93      2534\n",
            "\n"
          ]
        }
      ],
      "source": [
        "# Generate a classification report\n",
        "# Classification report provides precision, recall, f1-score, and support for the model\n",
        "report = classification_report(y_test, y_pred, target_names=['FAKE', 'REAL'])\n",
        "print(\"\\nClassification Report:\")\n",
        "print(report)"
      ]
    },
    {
      "cell_type": "code",
      "execution_count": 23,
      "id": "cf00efa8",
      "metadata": {
        "id": "cf00efa8",
        "colab": {
          "base_uri": "https://localhost:8080/"
        },
        "outputId": "aec44130-cefe-4a5f-9022-9a097c6a7dda"
      },
      "outputs": [
        {
          "output_type": "stream",
          "name": "stdout",
          "text": [
            "\n",
            "Additional Evaluation Metrics:\n",
            "True Negatives: 1183\n",
            "False Positives: 87\n",
            "False Negatives: 86\n",
            "True Positives: 1178\n"
          ]
        }
      ],
      "source": [
        "print(\"\\nAdditional Evaluation Metrics:\")\n",
        "tn, fp, fn, tp = matrix.ravel()\n",
        "print(f\"True Negatives: {tn}\")\n",
        "print(f\"False Positives: {fp}\")\n",
        "print(f\"False Negatives: {fn}\")\n",
        "print(f\"True Positives: {tp}\")"
      ]
    },
    {
      "cell_type": "code",
      "source": [
        "# Visualize ROC Curve\n",
        "from sklearn.metrics import roc_curve, auc\n",
        "\n",
        "y_test_binary = [1 if label == 'REAL' else 0 for label in y_test]\n",
        "y_pred_binary = [1 if label == 'REAL' else 0 for label in y_pred]\n",
        "fpr, tpr, _ = roc_curve(y_test_binary, y_pred_binary)\n",
        "roc_auc = auc(fpr, tpr)\n",
        "plt.figure()\n",
        "plt.plot(fpr, tpr, color='darkorange', lw=2, label=f'ROC curve (area = {roc_auc:.2f})')\n",
        "plt.plot([0, 1], [0, 1], color='navy', lw=2, linestyle='--')\n",
        "plt.xlim([0.0, 1.0])\n",
        "plt.ylim([0.0, 1.05])\n",
        "plt.xlabel('False Positive Rate')\n",
        "plt.ylabel('True Positive Rate')\n",
        "plt.title('Receiver Operating Characteristic')\n",
        "plt.legend(loc=\"lower right\")\n",
        "plt.show()"
      ],
      "metadata": {
        "colab": {
          "base_uri": "https://localhost:8080/",
          "height": 472
        },
        "id": "uoyU5wv4sLoD",
        "outputId": "e5a09970-f599-4606-ce15-b3d88e8281ac"
      },
      "id": "uoyU5wv4sLoD",
      "execution_count": 24,
      "outputs": [
        {
          "output_type": "display_data",
          "data": {
            "text/plain": [
              "<Figure size 640x480 with 1 Axes>"
            ],
            "image/png": "[encoded data removed]"
          },
          "metadata": {}
        }
      ]
    }
  ],
  "metadata": {
    "kernelspec": {
      "display_name": "Python 3",
      "language": "python",
      "name": "python3"
    },
    "language_info": {
      "codemirror_mode": {
        "name": "ipython",
        "version": 3
      },
      "file_extension": ".py",
      "mimetype": "text/x-python",
      "name": "python",
      "nbconvert_exporter": "python",
      "pygments_lexer": "ipython3",
      "version": "3.8.8"
    },
    "colab": {
      "provenance": [],
      "include_colab_link": true
    }
  },
  "nbformat": 4,
  "nbformat_minor": 5
}